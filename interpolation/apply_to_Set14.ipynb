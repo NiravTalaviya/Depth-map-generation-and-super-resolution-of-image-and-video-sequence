{
 "cells": [
  {
   "cell_type": "code",
   "execution_count": 2,
   "metadata": {},
   "outputs": [],
   "source": [
    "import cv2\n",
    "import numpy as np\n",
    "import matplotlib.pyplot as plt\n",
    "\n",
    "from scipy.interpolate import SmoothBivariateSpline, UnivariateSpline"
   ]
  },
  {
   "cell_type": "markdown",
   "metadata": {},
   "source": [
    "# Bicubic"
   ]
  },
  {
   "cell_type": "code",
   "execution_count": 3,
   "metadata": {},
   "outputs": [],
   "source": [
    "path_lr_2 = '../data/Set14/lr_2/'\n",
    "path_lr_4 = '../data/Set14/lr_4/'\n",
    "\n",
    "path_2x = '../output/Set14/2x/bicubic/'\n",
    "path_4x = '../output/Set14/4x/bicubic/'\n",
    "\n",
    "ext = '.jpg'\n",
    "\n",
    "name_pre_8 = 'I_'\n",
    "name_pre_32 = 'I_'\n",
    "name_pre_64 = 'I_'"
   ]
  },
  {
   "cell_type": "markdown",
   "metadata": {},
   "source": [
    "### 4x Bicubic Interpolation"
   ]
  },
  {
   "cell_type": "code",
   "execution_count": 5,
   "metadata": {},
   "outputs": [],
   "source": [
    "for i in range(10):\n",
    "    img = name_pre_8 + str(i) + ext\n",
    "    #print(img)\n",
    "    lr_image = cv2.imread(path_lr_4 + img)\n",
    "    \n",
    "    #print(lr_image.shape)\n",
    "    \n",
    "    SR_FACTOR = 4\n",
    "    size=lr_image.shape\n",
    "    outsize=(size[1]*SR_FACTOR,size[0]*SR_FACTOR)\n",
    "    sr_image=cv2.resize(lr_image,outsize, interpolation=cv2.INTER_CUBIC)\n",
    "\n",
    "    save_name = img\n",
    "    cv2.imwrite(path_4x + save_name, sr_image)"
   ]
  },
  {
   "cell_type": "markdown",
   "metadata": {},
   "source": [
    "### 2x Bicubic Interpolation"
   ]
  },
  {
   "cell_type": "code",
   "execution_count": 6,
   "metadata": {},
   "outputs": [],
   "source": [
    "for i in range(10):\n",
    "    img = name_pre_32 + str(i) + ext\n",
    "    #print(img)\n",
    "    lr_image = cv2.imread(path_lr_2 + img)\n",
    "    \n",
    "    #print(lr_image.shape)\n",
    "    \n",
    "    SR_FACTOR = 2\n",
    "    size=lr_image.shape\n",
    "    outsize=(size[1]*SR_FACTOR,size[0]*SR_FACTOR)\n",
    "    sr_image=cv2.resize(lr_image,outsize, interpolation=cv2.INTER_CUBIC)\n",
    "\n",
    "    save_name = img\n",
    "    cv2.imwrite(path_2x + save_name, sr_image)"
   ]
  },
  {
   "cell_type": "markdown",
   "metadata": {},
   "source": [
    "# Linear"
   ]
  },
  {
   "cell_type": "code",
   "execution_count": 8,
   "metadata": {},
   "outputs": [],
   "source": [
    "path_lr_2 = '../data/Set14/lr_2/'\n",
    "path_lr_4 = '../data/Set14/lr_4/'\n",
    "\n",
    "path_2x = '../output/Set14/2x/linear/'\n",
    "path_4x = '../output/Set14/4x/linear/'\n",
    "\n",
    "ext = '.jpg'\n",
    "\n",
    "name_pre_8 = 'I_'\n",
    "name_pre_32 = 'I_'\n",
    "name_pre_64 = 'I_'"
   ]
  },
  {
   "cell_type": "markdown",
   "metadata": {},
   "source": [
    "### 4x Linear Interpolation"
   ]
  },
  {
   "cell_type": "code",
   "execution_count": 9,
   "metadata": {},
   "outputs": [],
   "source": [
    "for i in range(10):\n",
    "    img = name_pre_8 + str(i) + ext\n",
    "    #print(img)\n",
    "    lr_image = cv2.imread(path_lr_4 + img)\n",
    "    \n",
    "    #print(lr_image.shape)\n",
    "    \n",
    "    SR_FACTOR = 4\n",
    "    size=lr_image.shape\n",
    "    outsize=(size[1]*SR_FACTOR,size[0]*SR_FACTOR)\n",
    "    sr_image=cv2.resize(lr_image,outsize)\n",
    "\n",
    "    save_name = img\n",
    "    cv2.imwrite(path_4x + save_name, sr_image)"
   ]
  },
  {
   "cell_type": "markdown",
   "metadata": {},
   "source": [
    "### 2x Linear Interpolation"
   ]
  },
  {
   "cell_type": "code",
   "execution_count": 10,
   "metadata": {},
   "outputs": [],
   "source": [
    "for i in range(10):\n",
    "    img = name_pre_8 + str(i) + ext\n",
    "    #print(img)\n",
    "    lr_image = cv2.imread(path_lr_2 + img)\n",
    "    \n",
    "    #print(lr_image.shape)\n",
    "    \n",
    "    SR_FACTOR = 2\n",
    "    size=lr_image.shape\n",
    "    outsize=(size[1]*SR_FACTOR,size[0]*SR_FACTOR)\n",
    "    sr_image=cv2.resize(lr_image,outsize)\n",
    "\n",
    "    save_name = img\n",
    "    cv2.imwrite(path_2x + save_name, sr_image)"
   ]
  },
  {
   "cell_type": "markdown",
   "metadata": {},
   "source": [
    "# Nearest Neighbour ( Duplication )"
   ]
  },
  {
   "cell_type": "code",
   "execution_count": 12,
   "metadata": {},
   "outputs": [],
   "source": [
    "path_lr_2 = '../data/Set14/lr_2/'\n",
    "path_lr_4 = '../data/Set14/lr_4/'\n",
    "\n",
    "path_2x = '../output/Set14/2x/nn/'\n",
    "path_4x = '../output/Set14/4x/nn/'\n",
    "\n",
    "ext = '.jpg'\n",
    "\n",
    "name_pre_8 = 'I_'\n",
    "name_pre_32 = 'I_'\n",
    "name_pre_64 = 'I_'"
   ]
  },
  {
   "cell_type": "markdown",
   "metadata": {},
   "source": [
    "### 4x NN Interpolation"
   ]
  },
  {
   "cell_type": "code",
   "execution_count": 13,
   "metadata": {},
   "outputs": [],
   "source": [
    "for i in range(10):\n",
    "    img = name_pre_8 + str(i) + ext\n",
    "    #print(img)\n",
    "    lr_image = cv2.imread(path_lr_4 + img)\n",
    "    \n",
    "    #print(lr_image.shape)\n",
    "    \n",
    "    SR_FACTOR = 4\n",
    "    size=lr_image.shape\n",
    "    outsize=(size[1]*SR_FACTOR,size[0]*SR_FACTOR)\n",
    "    sr_image=cv2.resize(lr_image,outsize)\n",
    "\n",
    "    save_name = img\n",
    "    cv2.imwrite(path_4x + save_name, sr_image)"
   ]
  },
  {
   "cell_type": "markdown",
   "metadata": {},
   "source": [
    "### 2x NN Interpolation"
   ]
  },
  {
   "cell_type": "code",
   "execution_count": 14,
   "metadata": {},
   "outputs": [],
   "source": [
    "for i in range(10):\n",
    "    img = name_pre_8 + str(i) + ext\n",
    "    #print(img)\n",
    "    lr_image = cv2.imread(path_lr_2 + img)\n",
    "    \n",
    "    #print(lr_image.shape)\n",
    "    \n",
    "    SR_FACTOR = 2\n",
    "    size=lr_image.shape\n",
    "    outsize=(size[1]*SR_FACTOR,size[0]*SR_FACTOR)\n",
    "    sr_image=cv2.resize(lr_image,outsize, interpolation=cv2.INTER_NEAREST)\n",
    "\n",
    "    save_name = img\n",
    "    cv2.imwrite(path_2x + save_name, sr_image)"
   ]
  },
  {
   "cell_type": "markdown",
   "metadata": {},
   "source": [
    "# Spline Interpolation"
   ]
  },
  {
   "cell_type": "code",
   "execution_count": 17,
   "metadata": {},
   "outputs": [],
   "source": [
    "path_lr_2 = '../data/Set14/lr_2/'\n",
    "path_lr_4 = '../data/Set14/lr_4/'\n",
    "\n",
    "path_2x = '../output/Set14/2x/spline/'\n",
    "path_4x = '../output/Set14/4x/spline/'\n",
    "\n",
    "ext = '.jpg'\n",
    "\n",
    "name_pre_8 = 'I_'\n",
    "name_pre_32 = 'I_'\n",
    "name_pre_64 = 'I_'"
   ]
  },
  {
   "cell_type": "markdown",
   "metadata": {},
   "source": [
    "### 4x Spline Interpolation"
   ]
  },
  {
   "cell_type": "code",
   "execution_count": 18,
   "metadata": {},
   "outputs": [],
   "source": [
    "for i in range(10):\n",
    "    img = name_pre_8 + str(i) + ext\n",
    "    #print(img)\n",
    "    lr_image = cv2.imread(path_lr_4 + img)\n",
    "    \n",
    "    #print(lr_image.shape)\n",
    "    \n",
    "    SR_FACTOR = 4\n",
    "    \n",
    "    _K = 1\n",
    "    dim = (lr_image.shape[0]*SR_FACTOR, lr_image.shape[1]*SR_FACTOR, 3)\n",
    "    sr_image = np.zeros(dim, dtype=np.uint8)\n",
    "\n",
    "    for (i,row) in enumerate(lr_image):\n",
    "        len_row=len(row);\n",
    "        for j in range(3):\n",
    "            x = np.linspace(0,len_row-1,len_row)\n",
    "            y=row[:,j]\n",
    "            spl = UnivariateSpline(x, y, k=_K)\n",
    "            spl.set_smoothing_factor(0)\n",
    "            x=np.linspace(0,len_row-1,len_row*SR_FACTOR)\n",
    "            y=spl(x)\n",
    "            sr_image[i,:,j]=y\n",
    "\n",
    "    tem_image=sr_image[0:int(dim[0]/SR_FACTOR),:,:]\n",
    "    len_row=tem_image.shape[1]\n",
    "    for i in range(len_row):\n",
    "        column=tem_image[:,i,:];\n",
    "        for j in range(3):\n",
    "            x = np.linspace(0,tem_image.shape[0]-1,tem_image.shape[0])\n",
    "            y=column[:,j]\n",
    "            spl = UnivariateSpline(x, y, k=_K)\n",
    "            spl.set_smoothing_factor(0)\n",
    "            x=np.linspace(0,tem_image.shape[0]-1,tem_image.shape[0]*SR_FACTOR)\n",
    "            y=spl(x)\n",
    "            sr_image[:,i,j]=y\n",
    "\n",
    "    save_name = img\n",
    "    cv2.imwrite(path_4x + save_name, sr_image)"
   ]
  },
  {
   "cell_type": "markdown",
   "metadata": {},
   "source": [
    "### 2x Spline Interpolation"
   ]
  },
  {
   "cell_type": "code",
   "execution_count": 19,
   "metadata": {},
   "outputs": [],
   "source": [
    "for i in range(10):\n",
    "    img = name_pre_32 + str(i) + ext\n",
    "    #print(img)\n",
    "    lr_image = cv2.imread(path_lr_2 + img)\n",
    "    \n",
    "    #print(lr_image.shape)\n",
    "    \n",
    "    SR_FACTOR = 2\n",
    "    \n",
    "    _K = 1\n",
    "    dim = (lr_image.shape[0]*SR_FACTOR, lr_image.shape[1]*SR_FACTOR, 3)\n",
    "    sr_image = np.zeros(dim, dtype=np.uint8)\n",
    "\n",
    "    for (i,row) in enumerate(lr_image):\n",
    "        len_row=len(row);\n",
    "        for j in range(3):\n",
    "            x = np.linspace(0,len_row-1,len_row)\n",
    "            y=row[:,j]\n",
    "            spl = UnivariateSpline(x, y, k=_K)\n",
    "            spl.set_smoothing_factor(0)\n",
    "            x=np.linspace(0,len_row-1,len_row*SR_FACTOR)\n",
    "            y=spl(x)\n",
    "            sr_image[i,:,j]=y\n",
    "\n",
    "    tem_image=sr_image[0:int(dim[0]/SR_FACTOR),:,:]\n",
    "    len_row=tem_image.shape[1]\n",
    "    for i in range(len_row):\n",
    "        column=tem_image[:,i,:];\n",
    "        for j in range(3):\n",
    "            x = np.linspace(0,tem_image.shape[0]-1,tem_image.shape[0])\n",
    "            y=column[:,j]\n",
    "            spl = UnivariateSpline(x, y, k=_K)\n",
    "            spl.set_smoothing_factor(0)\n",
    "            x=np.linspace(0,tem_image.shape[0]-1,tem_image.shape[0]*SR_FACTOR)\n",
    "            y=spl(x)\n",
    "            sr_image[:,i,j]=y\n",
    "\n",
    "    save_name = img\n",
    "    cv2.imwrite(path_2x + save_name, sr_image)"
   ]
  },
  {
   "cell_type": "code",
   "execution_count": null,
   "metadata": {},
   "outputs": [],
   "source": []
  }
 ],
 "metadata": {
  "kernelspec": {
   "display_name": "Python 3",
   "language": "python",
   "name": "python3"
  },
  "language_info": {
   "codemirror_mode": {
    "name": "ipython",
    "version": 3
   },
   "file_extension": ".py",
   "mimetype": "text/x-python",
   "name": "python",
   "nbconvert_exporter": "python",
   "pygments_lexer": "ipython3",
   "version": "3.7.4"
  }
 },
 "nbformat": 4,
 "nbformat_minor": 2
}
