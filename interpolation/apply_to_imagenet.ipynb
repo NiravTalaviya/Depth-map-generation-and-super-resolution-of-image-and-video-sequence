{
 "cells": [
  {
   "cell_type": "code",
   "execution_count": 10,
   "metadata": {},
   "outputs": [],
   "source": [
    "import cv2\n",
    "import numpy as np\n",
    "import matplotlib.pyplot as plt\n",
    "\n",
    "from scipy.interpolate import SmoothBivariateSpline, UnivariateSpline"
   ]
  },
  {
   "cell_type": "markdown",
   "metadata": {},
   "source": [
    "# Bicubic"
   ]
  },
  {
   "cell_type": "code",
   "execution_count": 35,
   "metadata": {},
   "outputs": [],
   "source": [
    "path_8 = '../data/Imagenet8/val/'\n",
    "path_32 = '../data/Imagenet32/val/'\n",
    "path_64 = '../data/Imagenet64/val/'\n",
    "\n",
    "path8_32 = '../output/I8_32/bicubic/'\n",
    "path8_64 = '../output/I8_64/bicubic/'\n",
    "\n",
    "path32_64 = '../output/I32_64/bicubic/'\n",
    "\n",
    "ext = '.jpg'\n",
    "\n",
    "name_pre_8 = 'I8_'\n",
    "name_pre_32 = 'I32_'\n",
    "name_pre_64 = 'I64_'"
   ]
  },
  {
   "cell_type": "markdown",
   "metadata": {},
   "source": [
    "### I8 64 Bicubic Interpolation"
   ]
  },
  {
   "cell_type": "code",
   "execution_count": 26,
   "metadata": {},
   "outputs": [],
   "source": [
    "for i in range(10):\n",
    "    img = name_pre_8 + str(i) + ext\n",
    "    #print(img)\n",
    "    lr_image = cv2.imread(path_8 + img)\n",
    "    \n",
    "    #print(lr_image.shape)\n",
    "    \n",
    "    SR_FACTOR = 8\n",
    "    size=lr_image.shape\n",
    "    outsize=(size[1]*SR_FACTOR,size[0]*SR_FACTOR)\n",
    "    sr_image=cv2.resize(lr_image,outsize, interpolation=cv2.INTER_CUBIC)\n",
    "\n",
    "    save_name = img\n",
    "    cv2.imwrite(path8_64 + save_name, sr_image)\n"
   ]
  },
  {
   "cell_type": "markdown",
   "metadata": {},
   "source": [
    "### I8 32 Bicubic Interpolation"
   ]
  },
  {
   "cell_type": "code",
   "execution_count": 36,
   "metadata": {},
   "outputs": [],
   "source": [
    "for i in range(10):\n",
    "    img = name_pre_8 + str(i) + ext\n",
    "    #print(img)\n",
    "    lr_image = cv2.imread(path_8 + img)\n",
    "    \n",
    "    #print(lr_image.shape)\n",
    "    \n",
    "    SR_FACTOR = 4\n",
    "    size=lr_image.shape\n",
    "    outsize=(size[1]*SR_FACTOR,size[0]*SR_FACTOR)\n",
    "    sr_image=cv2.resize(lr_image,outsize, interpolation=cv2.INTER_CUBIC)\n",
    "\n",
    "    save_name = img\n",
    "    cv2.imwrite(path8_32 + save_name, sr_image)"
   ]
  },
  {
   "cell_type": "markdown",
   "metadata": {},
   "source": [
    "### I32 64 Bicubic Interpolation"
   ]
  },
  {
   "cell_type": "code",
   "execution_count": 37,
   "metadata": {},
   "outputs": [],
   "source": [
    "for i in range(10):\n",
    "    img = name_pre_32 + str(i) + ext\n",
    "    #print(img)\n",
    "    lr_image = cv2.imread(path_32 + img)\n",
    "    \n",
    "    #print(lr_image.shape)\n",
    "    \n",
    "    SR_FACTOR = 2\n",
    "    size=lr_image.shape\n",
    "    outsize=(size[1]*SR_FACTOR,size[0]*SR_FACTOR)\n",
    "    sr_image=cv2.resize(lr_image,outsize, interpolation=cv2.INTER_CUBIC)\n",
    "\n",
    "    save_name = img\n",
    "    cv2.imwrite(path32_64 + save_name, sr_image)"
   ]
  },
  {
   "cell_type": "markdown",
   "metadata": {},
   "source": [
    "# Linear"
   ]
  },
  {
   "cell_type": "code",
   "execution_count": 39,
   "metadata": {},
   "outputs": [],
   "source": [
    "path_8 = '../data/Imagenet8/val/'\n",
    "path_32 = '../data/Imagenet32/val/'\n",
    "path_64 = '../data/Imagenet64/val/'\n",
    "\n",
    "path8_32 = '../output/I8_32/linear/'\n",
    "path8_64 = '../output/I8_64/linear/'\n",
    "\n",
    "path32_64 = '../output/I32_64/linear/'\n",
    "\n",
    "ext = '.jpg'\n",
    "\n",
    "name_pre_8 = 'I8_'\n",
    "name_pre_32 = 'I32_'\n",
    "name_pre_64 = 'I64_'"
   ]
  },
  {
   "cell_type": "markdown",
   "metadata": {},
   "source": [
    "### I8 64 Linear Interpolation"
   ]
  },
  {
   "cell_type": "code",
   "execution_count": 22,
   "metadata": {},
   "outputs": [],
   "source": [
    "for i in range(10):\n",
    "    img = name_pre_8 + str(i) + ext\n",
    "    #print(img)\n",
    "    lr_image = cv2.imread(path_8 + img)\n",
    "    \n",
    "    #print(lr_image.shape)\n",
    "    \n",
    "    SR_FACTOR = 8\n",
    "    size=lr_image.shape\n",
    "    outsize=(size[1]*SR_FACTOR,size[0]*SR_FACTOR)\n",
    "    sr_image=cv2.resize(lr_image,outsize)\n",
    "\n",
    "    save_name = img\n",
    "    cv2.imwrite(path8_64 + save_name, sr_image)"
   ]
  },
  {
   "cell_type": "markdown",
   "metadata": {},
   "source": [
    "### I8 32 Linear Interpolation"
   ]
  },
  {
   "cell_type": "code",
   "execution_count": 23,
   "metadata": {},
   "outputs": [],
   "source": [
    "for i in range(10):\n",
    "    img = name_pre_8 + str(i) + ext\n",
    "    #print(img)\n",
    "    lr_image = cv2.imread(path_8 + img)\n",
    "    \n",
    "    #print(lr_image.shape)\n",
    "    \n",
    "    SR_FACTOR = 4\n",
    "    size=lr_image.shape\n",
    "    outsize=(size[1]*SR_FACTOR,size[0]*SR_FACTOR)\n",
    "    sr_image=cv2.resize(lr_image,outsize)\n",
    "\n",
    "    save_name = img\n",
    "    cv2.imwrite(path8_32 + save_name, sr_image)"
   ]
  },
  {
   "cell_type": "markdown",
   "metadata": {},
   "source": [
    "### I32 64 Linear Interpolation"
   ]
  },
  {
   "cell_type": "code",
   "execution_count": 40,
   "metadata": {},
   "outputs": [],
   "source": [
    "for i in range(10):\n",
    "    img = name_pre_32 + str(i) + ext\n",
    "    #print(img)\n",
    "    lr_image = cv2.imread(path_32 + img)\n",
    "    \n",
    "    #print(lr_image.shape)\n",
    "    \n",
    "    SR_FACTOR = 2\n",
    "    size=lr_image.shape\n",
    "    outsize=(size[1]*SR_FACTOR,size[0]*SR_FACTOR)\n",
    "    sr_image=cv2.resize(lr_image,outsize)\n",
    "\n",
    "    save_name = img\n",
    "    cv2.imwrite(path32_64 + save_name, sr_image)"
   ]
  },
  {
   "cell_type": "markdown",
   "metadata": {},
   "source": [
    "# Nearest Neighbour ( Duplication )"
   ]
  },
  {
   "cell_type": "code",
   "execution_count": 41,
   "metadata": {},
   "outputs": [],
   "source": [
    "path_8 = '../data/Imagenet8/val/'\n",
    "path_32 = '../data/Imagenet32/val/'\n",
    "path_64 = '../data/Imagenet64/val/'\n",
    "\n",
    "path8_32 = '../output/I8_32/nn/'\n",
    "path8_64 = '../output/I8_64/nn/'\n",
    "\n",
    "path32_64 = '../output/I32_64/nn/'\n",
    "\n",
    "ext = '.jpg'\n",
    "\n",
    "name_pre_8 = 'I8_'\n",
    "name_pre_32 = 'I32_'\n",
    "name_pre_64 = 'I64_'"
   ]
  },
  {
   "cell_type": "markdown",
   "metadata": {},
   "source": [
    "### I8 64 NN Interpolation"
   ]
  },
  {
   "cell_type": "code",
   "execution_count": 9,
   "metadata": {},
   "outputs": [],
   "source": [
    "for i in range(10):\n",
    "    img = name_pre_8 + str(i) + ext\n",
    "    #print(img)\n",
    "    lr_image = cv2.imread(path_8 + img)\n",
    "    \n",
    "    #print(lr_image.shape)\n",
    "    \n",
    "    SR_FACTOR = 8\n",
    "    size=lr_image.shape\n",
    "    outsize=(size[1]*SR_FACTOR,size[0]*SR_FACTOR)\n",
    "    sr_image=cv2.resize(lr_image,outsize, interpolation=cv2.INTER_NEAREST)\n",
    "\n",
    "    save_name = img\n",
    "    cv2.imwrite(path8_64 + save_name, sr_image)"
   ]
  },
  {
   "cell_type": "markdown",
   "metadata": {},
   "source": [
    "### I8 32 NN Interpolation"
   ]
  },
  {
   "cell_type": "code",
   "execution_count": 26,
   "metadata": {},
   "outputs": [],
   "source": [
    "for i in range(10):\n",
    "    img = name_pre_8 + str(i) + ext\n",
    "    #print(img)\n",
    "    lr_image = cv2.imread(path_8 + img)\n",
    "    \n",
    "    #print(lr_image.shape)\n",
    "    \n",
    "    SR_FACTOR = 4\n",
    "    size=lr_image.shape\n",
    "    outsize=(size[1]*SR_FACTOR,size[0]*SR_FACTOR)\n",
    "    sr_image=cv2.resize(lr_image,outsize, interpolation=cv2.INTER_NEAREST)\n",
    "\n",
    "    save_name = img\n",
    "    cv2.imwrite(path8_32 + save_name, sr_image)"
   ]
  },
  {
   "cell_type": "markdown",
   "metadata": {},
   "source": [
    "### I32 64 NN Interpolation"
   ]
  },
  {
   "cell_type": "code",
   "execution_count": 42,
   "metadata": {},
   "outputs": [],
   "source": [
    "for i in range(10):\n",
    "    img = name_pre_32 + str(i) + ext\n",
    "    #print(img)\n",
    "    lr_image = cv2.imread(path_32 + img)\n",
    "    \n",
    "    #print(lr_image.shape)\n",
    "    \n",
    "    SR_FACTOR = 2\n",
    "    size=lr_image.shape\n",
    "    outsize=(size[1]*SR_FACTOR,size[0]*SR_FACTOR)\n",
    "    sr_image=cv2.resize(lr_image,outsize,  interpolation=cv2.INTER_NEAREST)\n",
    "\n",
    "    save_name = img\n",
    "    cv2.imwrite(path32_64 + save_name, sr_image)"
   ]
  },
  {
   "cell_type": "markdown",
   "metadata": {},
   "source": [
    "# Spline Interpolation"
   ]
  },
  {
   "cell_type": "code",
   "execution_count": 44,
   "metadata": {},
   "outputs": [],
   "source": [
    "path_8 = '../data/Imagenet8/val/'\n",
    "path_32 = '../data/Imagenet32/val/'\n",
    "path_64 = '../data/Imagenet64/val/'\n",
    "\n",
    "path8_32 = '../output/I8_32/spline/'\n",
    "path8_64 = '../output/I8_64/spline/'\n",
    "\n",
    "path32_64 = '../output/I32_64/spline/'\n",
    "\n",
    "ext = '.jpg'\n",
    "\n",
    "name_pre_8 = 'I8_'\n",
    "name_pre_32 = 'I32_'\n",
    "name_pre_64 = 'I64_'"
   ]
  },
  {
   "cell_type": "markdown",
   "metadata": {},
   "source": [
    "### I8 64 Spline Interpolation"
   ]
  },
  {
   "cell_type": "code",
   "execution_count": 30,
   "metadata": {},
   "outputs": [],
   "source": [
    "for i in range(10):\n",
    "    img = name_pre_8 + str(i) + ext\n",
    "    #print(img)\n",
    "    lr_image = cv2.imread(path_8 + img)\n",
    "    \n",
    "    #print(lr_image.shape)\n",
    "    \n",
    "    SR_FACTOR = 8\n",
    "    \n",
    "    _K = 1\n",
    "    dim = (lr_image.shape[0]*SR_FACTOR, lr_image.shape[1]*SR_FACTOR, 3)\n",
    "    sr_image = np.zeros(dim, dtype=np.uint8)\n",
    "\n",
    "    for (i,row) in enumerate(lr_image):\n",
    "        len_row=len(row);\n",
    "        for j in range(3):\n",
    "            x = np.linspace(0,len_row-1,len_row)\n",
    "            y=row[:,j]\n",
    "            spl = UnivariateSpline(x, y, k=_K)\n",
    "            spl.set_smoothing_factor(0)\n",
    "            x=np.linspace(0,len_row-1,len_row*SR_FACTOR)\n",
    "            y=spl(x)\n",
    "            sr_image[i,:,j]=y\n",
    "\n",
    "    tem_image=sr_image[0:int(dim[0]/SR_FACTOR),:,:]\n",
    "    len_row=tem_image.shape[1]\n",
    "    for i in range(len_row):\n",
    "        column=tem_image[:,i,:];\n",
    "        for j in range(3):\n",
    "            x = np.linspace(0,tem_image.shape[0]-1,tem_image.shape[0])\n",
    "            y=column[:,j]\n",
    "            spl = UnivariateSpline(x, y, k=_K)\n",
    "            spl.set_smoothing_factor(0)\n",
    "            x=np.linspace(0,tem_image.shape[0]-1,tem_image.shape[0]*SR_FACTOR)\n",
    "            y=spl(x)\n",
    "            sr_image[:,i,j]=y\n",
    "\n",
    "    save_name = img\n",
    "    cv2.imwrite(path8_64 + save_name, sr_image)"
   ]
  },
  {
   "cell_type": "markdown",
   "metadata": {},
   "source": [
    "### I8 32 Spline Interpolation"
   ]
  },
  {
   "cell_type": "code",
   "execution_count": 31,
   "metadata": {},
   "outputs": [],
   "source": [
    "for i in range(10):\n",
    "    img = name_pre_8 + str(i) + ext\n",
    "    #print(img)\n",
    "    lr_image = cv2.imread(path_8 + img)\n",
    "    \n",
    "    #print(lr_image.shape)\n",
    "    \n",
    "    SR_FACTOR = 4\n",
    "    \n",
    "    _K = 1\n",
    "    dim = (lr_image.shape[0]*SR_FACTOR, lr_image.shape[1]*SR_FACTOR, 3)\n",
    "    sr_image = np.zeros(dim, dtype=np.uint8)\n",
    "\n",
    "    for (i,row) in enumerate(lr_image):\n",
    "        len_row=len(row);\n",
    "        for j in range(3):\n",
    "            x = np.linspace(0,len_row-1,len_row)\n",
    "            y=row[:,j]\n",
    "            spl = UnivariateSpline(x, y, k=_K)\n",
    "            spl.set_smoothing_factor(0)\n",
    "            x=np.linspace(0,len_row-1,len_row*SR_FACTOR)\n",
    "            y=spl(x)\n",
    "            sr_image[i,:,j]=y\n",
    "\n",
    "    tem_image=sr_image[0:int(dim[0]/SR_FACTOR),:,:]\n",
    "    len_row=tem_image.shape[1]\n",
    "    for i in range(len_row):\n",
    "        column=tem_image[:,i,:];\n",
    "        for j in range(3):\n",
    "            x = np.linspace(0,tem_image.shape[0]-1,tem_image.shape[0])\n",
    "            y=column[:,j]\n",
    "            spl = UnivariateSpline(x, y, k=_K)\n",
    "            spl.set_smoothing_factor(0)\n",
    "            x=np.linspace(0,tem_image.shape[0]-1,tem_image.shape[0]*SR_FACTOR)\n",
    "            y=spl(x)\n",
    "            sr_image[:,i,j]=y\n",
    "\n",
    "    save_name = img\n",
    "    cv2.imwrite(path8_32 + save_name, sr_image)"
   ]
  },
  {
   "cell_type": "markdown",
   "metadata": {},
   "source": [
    "### I32 64 Spline Interpolation"
   ]
  },
  {
   "cell_type": "code",
   "execution_count": 47,
   "metadata": {},
   "outputs": [],
   "source": [
    "for i in range(10):\n",
    "    img = name_pre_32 + str(i) + ext\n",
    "    #print(img)\n",
    "    lr_image = cv2.imread(path_32 + img)\n",
    "    \n",
    "    #print(lr_image.shape)\n",
    "    \n",
    "    SR_FACTOR = 2\n",
    "    \n",
    "    _K = 1\n",
    "    dim = (lr_image.shape[0]*SR_FACTOR, lr_image.shape[1]*SR_FACTOR, 3)\n",
    "    sr_image = np.zeros(dim, dtype=np.uint8)\n",
    "\n",
    "    for (i,row) in enumerate(lr_image):\n",
    "        len_row=len(row);\n",
    "        for j in range(3):\n",
    "            x = np.linspace(0,len_row-1,len_row)\n",
    "            y=row[:,j]\n",
    "            spl = UnivariateSpline(x, y, k=_K)\n",
    "            spl.set_smoothing_factor(0)\n",
    "            x=np.linspace(0,len_row-1,len_row*SR_FACTOR)\n",
    "            y=spl(x)\n",
    "            sr_image[i,:,j]=y\n",
    "\n",
    "    tem_image=sr_image[0:int(dim[0]/SR_FACTOR),:,:]\n",
    "    len_row=tem_image.shape[1]\n",
    "    for i in range(len_row):\n",
    "        column=tem_image[:,i,:];\n",
    "        for j in range(3):\n",
    "            x = np.linspace(0,tem_image.shape[0]-1,tem_image.shape[0])\n",
    "            y=column[:,j]\n",
    "            spl = UnivariateSpline(x, y, k=_K)\n",
    "            spl.set_smoothing_factor(0)\n",
    "            x=np.linspace(0,tem_image.shape[0]-1,tem_image.shape[0]*SR_FACTOR)\n",
    "            y=spl(x)\n",
    "            sr_image[:,i,j]=y\n",
    "\n",
    "    save_name = img\n",
    "    cv2.imwrite(path32_64 + save_name, sr_image)"
   ]
  }
 ],
 "metadata": {
  "kernelspec": {
   "display_name": "Python 3",
   "language": "python",
   "name": "python3"
  },
  "language_info": {
   "codemirror_mode": {
    "name": "ipython",
    "version": 3
   },
   "file_extension": ".py",
   "mimetype": "text/x-python",
   "name": "python",
   "nbconvert_exporter": "python",
   "pygments_lexer": "ipython3",
   "version": "3.7.4"
  }
 },
 "nbformat": 4,
 "nbformat_minor": 2
}
